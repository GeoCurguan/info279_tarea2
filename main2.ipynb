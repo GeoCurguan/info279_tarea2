{
 "cells": [
  {
   "cell_type": "code",
   "execution_count": 72,
   "metadata": {},
   "outputs": [],
   "source": [
    "import requests\n",
    "import pandas as pd\n",
    "import os"
   ]
  },
  {
   "cell_type": "code",
   "execution_count": 73,
   "metadata": {},
   "outputs": [],
   "source": [
    "# Solo se realiza una vez\n",
    "os.environ['OPENAI_API_KEY'] = '...'\n",
    "# os.environ['HF_API_KEY'] = '...'"
   ]
  },
  {
   "cell_type": "code",
   "execution_count": null,
   "metadata": {},
   "outputs": [],
   "source": [
    "OPENAI_KEY = os.getenv('OPENAI_API_KEY')\n",
    "HF_KEY = os.getenv('HF_API_KEY')\n",
    "headers = {\"Authorization\": f\"Bearer {HF_KEY}\"}\n",
    "print(OPENAI_KEY, HF_KEY)"
   ]
  },
  {
   "cell_type": "code",
   "execution_count": 75,
   "metadata": {},
   "outputs": [],
   "source": [
    "los_rios = pd.read_csv('noticias-losrios-2023.csv')\n",
    "test = pd.read_csv('test/dataset-test-desafio2.csv')"
   ]
  },
  {
   "cell_type": "markdown",
   "metadata": {},
   "source": [
    "<h3 style=\"color: orange\" >Traducción a inglés</h3>"
   ]
  },
  {
   "cell_type": "code",
   "execution_count": 76,
   "metadata": {},
   "outputs": [],
   "source": [
    "API_URL_TRANSLATE = \"https://api-inference.huggingface.co/models/Helsinki-NLP/opus-mt-es-en\""
   ]
  },
  {
   "cell_type": "code",
   "execution_count": 77,
   "metadata": {},
   "outputs": [],
   "source": [
    "def query_translate(payload):\n",
    "\tresponse = requests.post(API_URL_TRANSLATE, headers=headers, json=payload)\n",
    "\treturn response.json()"
   ]
  },
  {
   "cell_type": "code",
   "execution_count": 78,
   "metadata": {},
   "outputs": [],
   "source": [
    "import math\n",
    "\n",
    "def translate_to_en(new: str) -> str:\n",
    "    size_of_new = len(new)\n",
    "    iter = math.ceil(size_of_new / 512)\n",
    "    translated = ''\n",
    "    for i in range(0, iter):\n",
    "        start_index = i * 512\n",
    "        end_index = (i + 1) * 512\n",
    "        fragment = new[start_index:end_index]\n",
    "\n",
    "        output = query_translate({\n",
    "            \"inputs\": f'{fragment}',\n",
    "        })\n",
    "        \n",
    "        translated += str(output[0]['translation_text'])\n",
    "    return translated"
   ]
  },
  {
   "cell_type": "code",
   "execution_count": 79,
   "metadata": {},
   "outputs": [],
   "source": [
    "new = test['text'][21] # probe con 21, 22\n",
    "result = translate_to_en(new)"
   ]
  },
  {
   "cell_type": "code",
   "execution_count": 80,
   "metadata": {},
   "outputs": [
    {
     "name": "stdout",
     "output_type": "stream",
     "text": [
      "What started as the dream of two educators who went out to run through the city’s forests, today is a reality. Carola Püschel and Claudia Contreras wondered, how to protect these places so that more people could enjoy them, and their response was children. “As long as they know them and live them, there is no doubt that they will take care of them,” Claudia adds. It was so two years ago, in the middle of a pandemic, and with the urgent need to get the children out of their homes, the opening of theClub del Bosque Valdiviano, kindergarten and workshops. “We were surprised by the high demand for tuition, we realized that there was a community that needed a project like ours,” adds Carola. The project is based on outdoor learning, a philosophy proven years ago in countries such as England, Denmark and Sweden. Precisely based on these experiences, with training abroad and at the national level, the Club del Bosque has been building its own method. “We took what we didIt is best suited to our reality of other experiences and we are building a way of educating, but under standards that have been tested and systematized in other countries,” explained the leaders of this new project. In order to expand their model to more children in Valdivia and “Ojala de la region” decide in 2022 to create the Forest Club Foundation, through which they are working with the Rural School of Punucapa, they are part of the Valdivia Sustainable Consortium and they are carrying outThe first major research on open-air education in Chile, by the University of Development, among other things. In parallel to the creation of the Foundation, the parent community began to push the idea of making a college, an idea that after much effort has come to fruition and in March 2024 the Forest College opens its doors. Its curriculum framework is based on outdoor learning and has as its center the integral development of children. “Whenever we make a decision we make a decision on the subject, we will have to“We have a daily day from 08:30 to 16:30 based on the outdoor learning methodology, but with all the contents of mathematics, language, science and much more,” adds Carola. “The school is also a way to give continuity to the garden’s educational project and the pl“It will be the meeting place for our entire community, after all, it was they who encouraged us to want to change education from Valdivia,” they add. For more information https://foundacionclubdelbosque.cl/\n"
     ]
    }
   ],
   "source": [
    "print(result)"
   ]
  },
  {
   "cell_type": "markdown",
   "metadata": {},
   "source": [
    "<h3 style=\"color: orange\" >Evento principal </h3>"
   ]
  },
  {
   "cell_type": "code",
   "execution_count": 81,
   "metadata": {},
   "outputs": [],
   "source": [
    "API_URL_EVENT = \"https://api-inference.huggingface.co/models/facebook/bart-large-cnn\""
   ]
  },
  {
   "cell_type": "code",
   "execution_count": 100,
   "metadata": {},
   "outputs": [],
   "source": [
    "def query_event(payload):\n",
    "\tresponse = requests.post(API_URL_EVENT, headers=headers, json=payload)\n",
    "\treturn response.json()\n",
    "\t\n",
    "output = query_event({\n",
    "\t\"inputs\": result,\n",
    "})\n",
    "summary = output[0][\"summary_text\"]"
   ]
  },
  {
   "cell_type": "code",
   "execution_count": 101,
   "metadata": {},
   "outputs": [
    {
     "name": "stdout",
     "output_type": "stream",
     "text": [
      "Two years ago, in the middle of a pandemic, the opening of theClub del Bosque Valdiviano, kindergarten and workshops. The project is based on outdoor learning, a philosophy proven years ago in countries such as England, Denmark and Sweden. In March 2024 the Forest College opens its doors.\n"
     ]
    }
   ],
   "source": [
    "print(summary)"
   ]
  },
  {
   "cell_type": "markdown",
   "metadata": {},
   "source": [
    "<h3 style=\"color: orange\">Ubicación </h3>"
   ]
  },
  {
   "cell_type": "code",
   "execution_count": 102,
   "metadata": {},
   "outputs": [],
   "source": [
    "from llama_index.llms import HuggingFaceInferenceAPI, HuggingFaceLLM\n",
    "\n",
    "remotely_run = HuggingFaceInferenceAPI(\n",
    "    model_name=\"bigscience/bloom\", token=HF_KEY,\n",
    ")"
   ]
  },
  {
   "cell_type": "code",
   "execution_count": 108,
   "metadata": {},
   "outputs": [
    {
     "name": "stdout",
     "output_type": "stream",
     "text": [
      "\n"
     ]
    }
   ],
   "source": [
    "question_summary=f\"What is the main entity mentioned in {summary}?.\"\n",
    "completion_response = remotely_run.complete(question_summary)\n",
    "print(completion_response)"
   ]
  },
  {
   "cell_type": "code",
   "execution_count": 85,
   "metadata": {},
   "outputs": [],
   "source": [
    "from llama_index import ServiceContext , VectorStoreIndex, SimpleDirectoryReader\n",
    "\n",
    "service_context = ServiceContext.from_defaults(chunk_size=512, llm=remotely_run)\n",
    "\n",
    "documents = SimpleDirectoryReader('data').load_data()\n",
    "index = VectorStoreIndex.from_documents(\n",
    "    documents, service_context=service_context\n",
    ")"
   ]
  },
  {
   "cell_type": "code",
   "execution_count": 86,
   "metadata": {},
   "outputs": [],
   "source": [
    "query_engine = index.as_query_engine()"
   ]
  },
  {
   "cell_type": "code",
   "execution_count": 95,
   "metadata": {},
   "outputs": [],
   "source": [
    "question=f'For the following summary, extract the most important location mentioned. You must respond in CSV format. Please {summary}'"
   ]
  },
  {
   "cell_type": "code",
   "execution_count": 96,
   "metadata": {},
   "outputs": [
    {
     "name": "stdout",
     "output_type": "stream",
     "text": [
      "-----------\n",
      "The answer is the location \"Bosque\". The location is mentioned in the following sentences:\n",
      "Bosque Carampangue 190, 5110260 Valdivia, Los Ríos, Chile Tienda del Bosque;\n",
      "Bosque Las Iris 410, Valdivia, Los Ríos, Chile Servicios Forestales Agricolas Y Transportes El Bosque Limitada;\n",
      "Bosque Fresia 290, 5110230 Valdivia, Los Ríos, Chile Hostel Bosque Nativo;\n",
      "Bosque Quillahue 2226, 5090788 Valdivia, Los Ríos, Chile Cabañas EL Bosque;\n",
      "Bosque Acceso norte - Puente Sta.\n",
      "\n",
      "file_path: data/result_1.txt\n",
      "\n",
      "Ramón Picarte 1654, 5090895 Valdivia, Los Ríos, Chile Río de colores;\n",
      "Jardín Don Bosco 2701, 5100655 Valdivia, Los Ríos, Chile Jardín Infantil y Sala Cuna Carrusel Junji;\n",
      "Jardín José María Muñoz Hermosilla, 5090238 Valdivia, Los Ríos, Chile Sala cuna y jardín infantil los avellanos;\n",
      "Jardín Río Loa, 5100936 Valdivia, Los Ríos, Chile Jardín infantil independencia;\n",
      "Jardín Av. Ramón Picarte 2399\n"
     ]
    }
   ],
   "source": [
    "response = query_engine.query(question)\n",
    "print(response)"
   ]
  },
  {
   "cell_type": "markdown",
   "metadata": {},
   "source": []
  }
 ],
 "metadata": {
  "kernelspec": {
   "display_name": "tal",
   "language": "python",
   "name": "python3"
  },
  "language_info": {
   "codemirror_mode": {
    "name": "ipython",
    "version": 3
   },
   "file_extension": ".py",
   "mimetype": "text/x-python",
   "name": "python",
   "nbconvert_exporter": "python",
   "pygments_lexer": "ipython3",
   "version": "3.11.5"
  }
 },
 "nbformat": 4,
 "nbformat_minor": 2
}
