{
 "cells": [
  {
   "cell_type": "markdown",
   "id": "65006cff-d443-4afb-a014-8196b6513a4d",
   "metadata": {},
   "source": [
    "# Qué pueden hacer los modelos transformers?"
   ]
  },
  {
   "cell_type": "code",
   "execution_count": 1,
   "id": "050c4de4-d033-4422-8b99-85bfccc02cdf",
   "metadata": {},
   "outputs": [
    {
     "name": "stdout",
     "output_type": "stream",
     "text": [
      "Defaulting to user installation because normal site-packages is not writeable\n",
      "Requirement already satisfied: transformers==4.34.0 in /home/matthieu/.local/lib/python3.10/site-packages (4.34.0)\n",
      "Requirement already satisfied: filelock in /home/matthieu/.local/lib/python3.10/site-packages (from transformers==4.34.0) (3.12.2)\n",
      "Requirement already satisfied: huggingface-hub<1.0,>=0.16.4 in /home/matthieu/.local/lib/python3.10/site-packages (from transformers==4.34.0) (0.16.4)\n",
      "Requirement already satisfied: numpy>=1.17 in /home/matthieu/.local/lib/python3.10/site-packages (from transformers==4.34.0) (1.25.2)\n",
      "Requirement already satisfied: packaging>=20.0 in /home/matthieu/.local/lib/python3.10/site-packages (from transformers==4.34.0) (23.1)\n",
      "Requirement already satisfied: pyyaml>=5.1 in /home/matthieu/.local/lib/python3.10/site-packages (from transformers==4.34.0) (6.0.1)\n",
      "Requirement already satisfied: regex!=2019.12.17 in /home/matthieu/.local/lib/python3.10/site-packages (from transformers==4.34.0) (2023.8.8)\n",
      "Requirement already satisfied: requests in /home/matthieu/.local/lib/python3.10/site-packages (from transformers==4.34.0) (2.31.0)\n",
      "Requirement already satisfied: tokenizers<0.15,>=0.14 in /home/matthieu/.local/lib/python3.10/site-packages (from transformers==4.34.0) (0.14.1)\n",
      "Requirement already satisfied: safetensors>=0.3.1 in /home/matthieu/.local/lib/python3.10/site-packages (from transformers==4.34.0) (0.3.2)\n",
      "Requirement already satisfied: tqdm>=4.27 in /home/matthieu/.local/lib/python3.10/site-packages (from transformers==4.34.0) (4.64.1)\n",
      "Requirement already satisfied: fsspec in /home/matthieu/.local/lib/python3.10/site-packages (from huggingface-hub<1.0,>=0.16.4->transformers==4.34.0) (2023.6.0)\n",
      "Requirement already satisfied: typing-extensions>=3.7.4.3 in /home/matthieu/.local/lib/python3.10/site-packages (from huggingface-hub<1.0,>=0.16.4->transformers==4.34.0) (4.7.1)\n",
      "Requirement already satisfied: charset-normalizer<4,>=2 in /home/matthieu/.local/lib/python3.10/site-packages (from requests->transformers==4.34.0) (3.2.0)\n",
      "Requirement already satisfied: idna<4,>=2.5 in /usr/lib/python3/dist-packages (from requests->transformers==4.34.0) (3.3)\n",
      "Requirement already satisfied: urllib3<3,>=1.21.1 in /usr/lib/python3/dist-packages (from requests->transformers==4.34.0) (1.26.5)\n",
      "Requirement already satisfied: certifi>=2017.4.17 in /usr/lib/python3/dist-packages (from requests->transformers==4.34.0) (2020.6.20)\n"
     ]
    }
   ],
   "source": [
    "!pip install transformers==4.34.0"
   ]
  },
  {
   "cell_type": "code",
   "execution_count": 2,
   "id": "c39756e7-9a21-4289-b613-52fd55e16484",
   "metadata": {},
   "outputs": [
    {
     "name": "stdout",
     "output_type": "stream",
     "text": [
      "Defaulting to user installation because normal site-packages is not writeable\n",
      "Requirement already satisfied: accelerate in /home/matthieu/.local/lib/python3.10/site-packages (0.23.0)\n",
      "Requirement already satisfied: numpy>=1.17 in /home/matthieu/.local/lib/python3.10/site-packages (from accelerate) (1.25.2)\n",
      "Requirement already satisfied: packaging>=20.0 in /home/matthieu/.local/lib/python3.10/site-packages (from accelerate) (23.1)\n",
      "Requirement already satisfied: psutil in /home/matthieu/.local/lib/python3.10/site-packages (from accelerate) (5.9.5)\n",
      "Requirement already satisfied: pyyaml in /home/matthieu/.local/lib/python3.10/site-packages (from accelerate) (6.0.1)\n",
      "Requirement already satisfied: torch>=1.10.0 in /home/matthieu/.local/lib/python3.10/site-packages (from accelerate) (2.0.1)\n",
      "Requirement already satisfied: huggingface-hub in /home/matthieu/.local/lib/python3.10/site-packages (from accelerate) (0.16.4)\n",
      "Requirement already satisfied: filelock in /home/matthieu/.local/lib/python3.10/site-packages (from torch>=1.10.0->accelerate) (3.12.2)\n",
      "Requirement already satisfied: typing-extensions in /home/matthieu/.local/lib/python3.10/site-packages (from torch>=1.10.0->accelerate) (4.7.1)\n",
      "Requirement already satisfied: sympy in /home/matthieu/.local/lib/python3.10/site-packages (from torch>=1.10.0->accelerate) (1.12)\n",
      "Requirement already satisfied: networkx in /home/matthieu/.local/lib/python3.10/site-packages (from torch>=1.10.0->accelerate) (3.1)\n",
      "Requirement already satisfied: jinja2 in /home/matthieu/.local/lib/python3.10/site-packages (from torch>=1.10.0->accelerate) (3.1.2)\n",
      "Requirement already satisfied: nvidia-cuda-nvrtc-cu11==11.7.99 in /home/matthieu/.local/lib/python3.10/site-packages (from torch>=1.10.0->accelerate) (11.7.99)\n",
      "Requirement already satisfied: nvidia-cuda-runtime-cu11==11.7.99 in /home/matthieu/.local/lib/python3.10/site-packages (from torch>=1.10.0->accelerate) (11.7.99)\n",
      "Requirement already satisfied: nvidia-cuda-cupti-cu11==11.7.101 in /home/matthieu/.local/lib/python3.10/site-packages (from torch>=1.10.0->accelerate) (11.7.101)\n",
      "Requirement already satisfied: nvidia-cudnn-cu11==8.5.0.96 in /home/matthieu/.local/lib/python3.10/site-packages (from torch>=1.10.0->accelerate) (8.5.0.96)\n",
      "Requirement already satisfied: nvidia-cublas-cu11==11.10.3.66 in /home/matthieu/.local/lib/python3.10/site-packages (from torch>=1.10.0->accelerate) (11.10.3.66)\n",
      "Requirement already satisfied: nvidia-cufft-cu11==10.9.0.58 in /home/matthieu/.local/lib/python3.10/site-packages (from torch>=1.10.0->accelerate) (10.9.0.58)\n",
      "Requirement already satisfied: nvidia-curand-cu11==10.2.10.91 in /home/matthieu/.local/lib/python3.10/site-packages (from torch>=1.10.0->accelerate) (10.2.10.91)\n",
      "Requirement already satisfied: nvidia-cusolver-cu11==11.4.0.1 in /home/matthieu/.local/lib/python3.10/site-packages (from torch>=1.10.0->accelerate) (11.4.0.1)\n",
      "Requirement already satisfied: nvidia-cusparse-cu11==11.7.4.91 in /home/matthieu/.local/lib/python3.10/site-packages (from torch>=1.10.0->accelerate) (11.7.4.91)\n",
      "Requirement already satisfied: nvidia-nccl-cu11==2.14.3 in /home/matthieu/.local/lib/python3.10/site-packages (from torch>=1.10.0->accelerate) (2.14.3)\n",
      "Requirement already satisfied: nvidia-nvtx-cu11==11.7.91 in /home/matthieu/.local/lib/python3.10/site-packages (from torch>=1.10.0->accelerate) (11.7.91)\n",
      "Requirement already satisfied: triton==2.0.0 in /home/matthieu/.local/lib/python3.10/site-packages (from torch>=1.10.0->accelerate) (2.0.0)\n",
      "Requirement already satisfied: setuptools in /home/matthieu/.local/lib/python3.10/site-packages (from nvidia-cublas-cu11==11.10.3.66->torch>=1.10.0->accelerate) (68.1.0)\n",
      "Requirement already satisfied: wheel in /home/matthieu/.local/lib/python3.10/site-packages (from nvidia-cublas-cu11==11.10.3.66->torch>=1.10.0->accelerate) (0.41.1)\n",
      "Requirement already satisfied: cmake in /home/matthieu/.local/lib/python3.10/site-packages (from triton==2.0.0->torch>=1.10.0->accelerate) (3.27.2)\n",
      "Requirement already satisfied: lit in /home/matthieu/.local/lib/python3.10/site-packages (from triton==2.0.0->torch>=1.10.0->accelerate) (16.0.6)\n",
      "Requirement already satisfied: fsspec in /home/matthieu/.local/lib/python3.10/site-packages (from huggingface-hub->accelerate) (2023.6.0)\n",
      "Requirement already satisfied: requests in /home/matthieu/.local/lib/python3.10/site-packages (from huggingface-hub->accelerate) (2.31.0)\n",
      "Requirement already satisfied: tqdm>=4.42.1 in /home/matthieu/.local/lib/python3.10/site-packages (from huggingface-hub->accelerate) (4.64.1)\n",
      "Requirement already satisfied: MarkupSafe>=2.0 in /usr/lib/python3/dist-packages (from jinja2->torch>=1.10.0->accelerate) (2.0.1)\n",
      "Requirement already satisfied: charset-normalizer<4,>=2 in /home/matthieu/.local/lib/python3.10/site-packages (from requests->huggingface-hub->accelerate) (3.2.0)\n",
      "Requirement already satisfied: idna<4,>=2.5 in /usr/lib/python3/dist-packages (from requests->huggingface-hub->accelerate) (3.3)\n",
      "Requirement already satisfied: urllib3<3,>=1.21.1 in /usr/lib/python3/dist-packages (from requests->huggingface-hub->accelerate) (1.26.5)\n",
      "Requirement already satisfied: certifi>=2017.4.17 in /usr/lib/python3/dist-packages (from requests->huggingface-hub->accelerate) (2020.6.20)\n",
      "Requirement already satisfied: mpmath>=0.19 in /home/matthieu/.local/lib/python3.10/site-packages (from sympy->torch>=1.10.0->accelerate) (1.3.0)\n"
     ]
    }
   ],
   "source": [
    "!pip install accelerate"
   ]
  },
  {
   "cell_type": "markdown",
   "id": "85ee5d05-c4a6-44f1-9611-466e5b2d87dd",
   "metadata": {},
   "source": [
    "- Sentiment Analysis"
   ]
  },
  {
   "cell_type": "code",
   "execution_count": 3,
   "id": "29c7e330-14b3-401b-98b2-f0dd5f19043c",
   "metadata": {},
   "outputs": [
    {
     "name": "stderr",
     "output_type": "stream",
     "text": [
      "No model was supplied, defaulted to distilbert-base-uncased-finetuned-sst-2-english and revision af0f99b (https://huggingface.co/distilbert-base-uncased-finetuned-sst-2-english).\n",
      "Using a pipeline without specifying a model name and revision in production is not recommended.\n"
     ]
    },
    {
     "data": {
      "text/plain": [
       "[{'label': 'POSITIVE', 'score': 0.9998806715011597}]"
      ]
     },
     "execution_count": 3,
     "metadata": {},
     "output_type": "execute_result"
    }
   ],
   "source": [
    "from transformers import pipeline\n",
    "\n",
    "classifier = pipeline(\"sentiment-analysis\")\n",
    "classifier(\"I absolutely love spending time with my friends and family, they bring so much joy into my life\")"
   ]
  },
  {
   "cell_type": "markdown",
   "id": "33599b33-e4fa-4f13-9392-3c37b038ac2a",
   "metadata": {},
   "source": [
    "Por defecto se utiliza el modelo para el ingles: Distilbert 2\n",
    "https://huggingface.co/distilbert-base-uncased-finetuned-sst-2-english"
   ]
  },
  {
   "cell_type": "code",
   "execution_count": 4,
   "id": "12f64dcf-d8c9-42b7-b0fd-d002d6ade064",
   "metadata": {},
   "outputs": [],
   "source": [
    "sentences=[\"This product doesn't meet expectations; it is unreliable and doesn't deliver the promised performance.\",\n",
    "           \"I am very impressed with the quality and effectiveness of this product; it has made a big difference in my everyday life.\"]"
   ]
  },
  {
   "cell_type": "code",
   "execution_count": 5,
   "id": "4cee715e-de58-467a-95b7-ae6f7aa1063e",
   "metadata": {},
   "outputs": [
    {
     "data": {
      "text/plain": [
       "[{'label': 'NEGATIVE', 'score': 0.9996930360794067},\n",
       " {'label': 'POSITIVE', 'score': 0.9998795986175537}]"
      ]
     },
     "execution_count": 5,
     "metadata": {},
     "output_type": "execute_result"
    }
   ],
   "source": [
    "classifier(sentences)"
   ]
  },
  {
   "cell_type": "markdown",
   "id": "7b74085a-2a32-49cc-af93-9ae52ad151bf",
   "metadata": {},
   "source": [
    "- Clasificación"
   ]
  },
  {
   "cell_type": "code",
   "execution_count": 6,
   "id": "c10456bd-10b0-427d-93a7-efccd8269fd7",
   "metadata": {},
   "outputs": [
    {
     "name": "stderr",
     "output_type": "stream",
     "text": [
      "No model was supplied, defaulted to facebook/bart-large-mnli and revision c626438 (https://huggingface.co/facebook/bart-large-mnli).\n",
      "Using a pipeline without specifying a model name and revision in production is not recommended.\n"
     ]
    },
    {
     "data": {
      "text/plain": [
       "{'sequence': 'This is a course about the Transformers library',\n",
       " 'labels': ['education', 'business', 'politics'],\n",
       " 'scores': [0.8445998430252075, 0.11197364330291748, 0.04342653974890709]}"
      ]
     },
     "execution_count": 6,
     "metadata": {},
     "output_type": "execute_result"
    }
   ],
   "source": [
    "from transformers import pipeline\n",
    "\n",
    "classifier = pipeline(\"zero-shot-classification\")\n",
    "classifier(\n",
    "    \"This is a course about the Transformers library\",\n",
    "    candidate_labels=[\"education\", \"politics\", \"business\"],\n",
    ")"
   ]
  },
  {
   "cell_type": "markdown",
   "id": "0cb132d1-6f0a-4120-8864-c8efa7fefb8e",
   "metadata": {},
   "source": [
    "Este pipeline se llama de cero ajuste (zero-shot-classification) porque no es necesario ajustar el modelo con datos de entrenamiento para usarlo. ¡Puede devolver directamente puntuaciones de probabilidad para cualquier lista de etiquetas!"
   ]
  },
  {
   "cell_type": "markdown",
   "id": "a6ce1ece-7cad-4006-803f-5869b826d944",
   "metadata": {},
   "source": [
    "- Generación de textos"
   ]
  },
  {
   "cell_type": "code",
   "execution_count": 7,
   "id": "4d2bb9ea-a227-401e-b553-a6ad47029d79",
   "metadata": {},
   "outputs": [
    {
     "name": "stderr",
     "output_type": "stream",
     "text": [
      "No model was supplied, defaulted to gpt2 and revision 6c0e608 (https://huggingface.co/gpt2).\n",
      "Using a pipeline without specifying a model name and revision in production is not recommended.\n",
      "Setting `pad_token_id` to `eos_token_id`:50256 for open-end generation.\n"
     ]
    },
    {
     "data": {
      "text/plain": [
       "[{'generated_text': 'The key challenge in natural language processing is to give machines the ability to express emotions in a form feeble compared the human will,\" said Dov Janssen, of the University of Gothenburg. \"We\\'ve known for a while now that this'}]"
      ]
     },
     "execution_count": 7,
     "metadata": {},
     "output_type": "execute_result"
    }
   ],
   "source": [
    "from transformers import pipeline\n",
    "\n",
    "generator = pipeline(\"text-generation\")\n",
    "generator(\"The key challenge in natural language processing is to give machines the ability to\")"
   ]
  },
  {
   "cell_type": "markdown",
   "id": "6e684690-0df4-46e6-a04a-9d9d895633eb",
   "metadata": {},
   "source": [
    "__Lo mismo usando un modelo específico...__"
   ]
  },
  {
   "cell_type": "code",
   "execution_count": 8,
   "id": "b028c771-6cac-4089-89b7-36d919b49db5",
   "metadata": {},
   "outputs": [
    {
     "name": "stderr",
     "output_type": "stream",
     "text": [
      "Setting `pad_token_id` to `eos_token_id`:50256 for open-end generation.\n"
     ]
    },
    {
     "data": {
      "text/plain": [
       "[{'generated_text': 'The key challenge in natural language processing is to give machines the ability to create the same output on a different page. For complex sentences, a simple command'},\n",
       " {'generated_text': 'The key challenge in natural language processing is to give machines the ability to write complex, complicated languages, to understand their own human language, write its own'}]"
      ]
     },
     "execution_count": 8,
     "metadata": {},
     "output_type": "execute_result"
    }
   ],
   "source": [
    "from transformers import pipeline\n",
    "\n",
    "generator = pipeline(\"text-generation\", model=\"distilgpt2\")\n",
    "generator(\n",
    "    \"The key challenge in natural language processing is to give machines the ability to\",\n",
    "    max_length=30,\n",
    "    num_return_sequences=2,\n",
    ")"
   ]
  },
  {
   "cell_type": "markdown",
   "id": "367dbb2c-0356-4ca0-a6f4-30700ceb893c",
   "metadata": {},
   "source": [
    "- mask filling"
   ]
  },
  {
   "cell_type": "code",
   "execution_count": 9,
   "id": "1eca3432-2bd9-4805-9eab-026b4212c30e",
   "metadata": {},
   "outputs": [
    {
     "name": "stderr",
     "output_type": "stream",
     "text": [
      "Some weights of the model checkpoint at distilroberta-base were not used when initializing RobertaForMaskedLM: ['roberta.pooler.dense.weight', 'roberta.pooler.dense.bias']\n",
      "- This IS expected if you are initializing RobertaForMaskedLM from the checkpoint of a model trained on another task or with another architecture (e.g. initializing a BertForSequenceClassification model from a BertForPreTraining model).\n",
      "- This IS NOT expected if you are initializing RobertaForMaskedLM from the checkpoint of a model that you expect to be exactly identical (initializing a BertForSequenceClassification model from a BertForSequenceClassification model).\n"
     ]
    },
    {
     "data": {
      "text/plain": [
       "[{'score': 0.1961979866027832,\n",
       "  'token': 30412,\n",
       "  'token_str': ' mathematical',\n",
       "  'sequence': 'This course will teach you all about mathematical models.'},\n",
       " {'score': 0.04052741825580597,\n",
       "  'token': 38163,\n",
       "  'token_str': ' computational',\n",
       "  'sequence': 'This course will teach you all about computational models.'}]"
      ]
     },
     "execution_count": 9,
     "metadata": {},
     "output_type": "execute_result"
    }
   ],
   "source": [
    "from transformers import pipeline\n",
    "\n",
    "unmasker = pipeline(\"fill-mask\", model=\"distilroberta-base\")\n",
    "unmasker(\"This course will teach you all about <mask> models.\", top_k=2)"
   ]
  },
  {
   "cell_type": "markdown",
   "id": "8f369da3-a19c-4c3d-bae0-a13b2818d824",
   "metadata": {},
   "source": [
    "-  Named entity recognition"
   ]
  },
  {
   "cell_type": "code",
   "execution_count": 10,
   "id": "514c7598-863d-4bdf-97de-fcbe88e9077a",
   "metadata": {},
   "outputs": [
    {
     "name": "stderr",
     "output_type": "stream",
     "text": [
      "No model was supplied, defaulted to dbmdz/bert-large-cased-finetuned-conll03-english and revision f2482bf (https://huggingface.co/dbmdz/bert-large-cased-finetuned-conll03-english).\n",
      "Using a pipeline without specifying a model name and revision in production is not recommended.\n",
      "Some weights of the model checkpoint at dbmdz/bert-large-cased-finetuned-conll03-english were not used when initializing BertForTokenClassification: ['bert.pooler.dense.weight', 'bert.pooler.dense.bias']\n",
      "- This IS expected if you are initializing BertForTokenClassification from the checkpoint of a model trained on another task or with another architecture (e.g. initializing a BertForSequenceClassification model from a BertForPreTraining model).\n",
      "- This IS NOT expected if you are initializing BertForTokenClassification from the checkpoint of a model that you expect to be exactly identical (initializing a BertForSequenceClassification model from a BertForSequenceClassification model).\n",
      "/home/matthieu/.local/lib/python3.10/site-packages/transformers/pipelines/token_classification.py:169: UserWarning: `grouped_entities` is deprecated and will be removed in version v5.0.0, defaulted to `aggregation_strategy=\"simple\"` instead.\n",
      "  warnings.warn(\n"
     ]
    },
    {
     "data": {
      "text/plain": [
       "[{'entity_group': 'PER',\n",
       "  'score': 0.9981694,\n",
       "  'word': 'Sylvain',\n",
       "  'start': 11,\n",
       "  'end': 18},\n",
       " {'entity_group': 'ORG',\n",
       "  'score': 0.9796019,\n",
       "  'word': 'Hugging Face',\n",
       "  'start': 33,\n",
       "  'end': 45},\n",
       " {'entity_group': 'LOC',\n",
       "  'score': 0.9932106,\n",
       "  'word': 'Brooklyn',\n",
       "  'start': 49,\n",
       "  'end': 57}]"
      ]
     },
     "execution_count": 10,
     "metadata": {},
     "output_type": "execute_result"
    }
   ],
   "source": [
    "from transformers import pipeline\n",
    "\n",
    "ner = pipeline(\"ner\", grouped_entities=True)\n",
    "ner(\"My name is Sylvain and I work at Hugging Face in Brooklyn.\")"
   ]
  },
  {
   "cell_type": "markdown",
   "id": "efd891bb-b483-4a3e-9a18-efe5c8374c21",
   "metadata": {},
   "source": [
    "- Question Answering"
   ]
  },
  {
   "cell_type": "code",
   "execution_count": 11,
   "id": "b20ab0a3-5124-464d-8368-4dc1b84d124b",
   "metadata": {},
   "outputs": [
    {
     "name": "stderr",
     "output_type": "stream",
     "text": [
      "No model was supplied, defaulted to distilbert-base-cased-distilled-squad and revision 626af31 (https://huggingface.co/distilbert-base-cased-distilled-squad).\n",
      "Using a pipeline without specifying a model name and revision in production is not recommended.\n"
     ]
    },
    {
     "data": {
      "text/plain": [
       "{'score': 0.9941259026527405, 'start': 49, 'end': 57, 'answer': 'Brooklyn'}"
      ]
     },
     "execution_count": 11,
     "metadata": {},
     "output_type": "execute_result"
    }
   ],
   "source": [
    "from transformers import pipeline\n",
    "\n",
    "question_answerer = pipeline(\"question-answering\")\n",
    "question_answerer(\n",
    "    question=\"Where is the Hugging Face company?\",\n",
    "    context=\"My name is Sylvain and I work at Hugging Face in Brooklyn\",\n",
    ")"
   ]
  },
  {
   "cell_type": "markdown",
   "id": "672b7440-de71-4140-aba3-e32c2d487023",
   "metadata": {},
   "source": [
    "- Resumen automático"
   ]
  },
  {
   "cell_type": "code",
   "execution_count": 12,
   "id": "67c51826-1836-4b78-91a1-9c096d320d66",
   "metadata": {},
   "outputs": [
    {
     "name": "stderr",
     "output_type": "stream",
     "text": [
      "No model was supplied, defaulted to sshleifer/distilbart-cnn-12-6 and revision a4f8f3e (https://huggingface.co/sshleifer/distilbart-cnn-12-6).\n",
      "Using a pipeline without specifying a model name and revision in production is not recommended.\n"
     ]
    },
    {
     "data": {
      "text/plain": [
       "[{'summary_text': ' America has changed dramatically during recent years . The number of engineering graduates in the U.S. has declined in traditional engineering disciplines such as mechanical, civil,    electrical, chemical, and aeronautical engineering . Rapidly developing economies such as China and India continue to encourage and advance the teaching of engineering .'}]"
      ]
     },
     "execution_count": 12,
     "metadata": {},
     "output_type": "execute_result"
    }
   ],
   "source": [
    "from transformers import pipeline\n",
    "\n",
    "summarizer = pipeline(\"summarization\")\n",
    "summarizer(\n",
    "    \"\"\"\n",
    "    America has changed dramatically during recent years. Not only has the number of \n",
    "    graduates in traditional engineering disciplines such as mechanical, civil, \n",
    "    electrical, chemical, and aeronautical engineering declined, but in most of \n",
    "    the premier American universities engineering curricula now concentrate on \n",
    "    and encourage largely the study of engineering science. As a result, there \n",
    "    are declining offerings in engineering subjects dealing with infrastructure, \n",
    "    the environment, and related issues, and greater concentration on high \n",
    "    technology subjects, largely supporting increasingly complex scientific \n",
    "    developments. While the latter is important, it should not be at the expense \n",
    "    of more traditional engineering.\n",
    "\n",
    "    Rapidly developing economies such as China and India, as well as other \n",
    "    industrial countries in Europe and Asia, continue to encourage and advance \n",
    "    the teaching of engineering. Both China and India, respectively, graduate \n",
    "    six and eight times as many traditional engineers as does the United States. \n",
    "    Other industrial countries at minimum maintain their output, while America \n",
    "    suffers an increasingly serious decline in the number of engineering graduates \n",
    "    and a lack of well-educated engineers.\n",
    "\"\"\"\n",
    ")"
   ]
  },
  {
   "cell_type": "markdown",
   "id": "378e2a21-0da7-4c56-8829-803a2db09538",
   "metadata": {},
   "source": [
    "# Cómo funcionan los transformers:\n",
    "\n",
    "https://huggingface.co/learn/nlp-course/chapter1/4?fw=pt\n",
    "\n",
    "https://huggingface.co/learn/nlp-course/chapter1/5?fw=pt\n",
    "\n",
    "https://huggingface.co/learn/nlp-course/chapter1/6?fw=pt\n",
    "\n",
    "https://huggingface.co/learn/nlp-course/chapter1/7?fw=pt\n",
    "\n",
    "https://huggingface.co/learn/nlp-course/chapter1/8?fw=pt\n",
    "\n",
    "https://huggingface.co/learn/nlp-course/chapter1/9?fw=pt\n",
    "\n",
    "https://huggingface.co/learn/nlp-course/chapter1/10?fw=pt\n",
    "\n"
   ]
  },
  {
   "cell_type": "markdown",
   "id": "4c481198-b4e4-41cd-b314-9a7ac355680f",
   "metadata": {},
   "source": [
    "# Utilizar modelos transformers abiertos"
   ]
  },
  {
   "cell_type": "markdown",
   "id": "31612af6-1976-4e78-a83f-ea895fa6e15d",
   "metadata": {},
   "source": [
    "https://huggingface.co/models"
   ]
  },
  {
   "cell_type": "markdown",
   "id": "988eb61f-2b3a-4371-808a-7c0dbda5a39a",
   "metadata": {},
   "source": [
    "# Modelo Zephyr 7B Alpha "
   ]
  },
  {
   "cell_type": "code",
   "execution_count": 13,
   "id": "3e6d169b-1f21-494e-9c7b-6f7891dc2d39",
   "metadata": {},
   "outputs": [
    {
     "data": {
      "application/vnd.jupyter.widget-view+json": {
       "model_id": "0298a4d687b5435185284e8d127c716b",
       "version_major": 2,
       "version_minor": 0
      },
      "text/plain": [
       "Loading checkpoint shards:   0%|          | 0/8 [00:00<?, ?it/s]"
      ]
     },
     "metadata": {},
     "output_type": "display_data"
    },
    {
     "name": "stderr",
     "output_type": "stream",
     "text": [
      "Special tokens have been added in the vocabulary, make sure the associated word embeddings are fine-tuned or trained.\n",
      "Using sep_token, but it is not set yet.\n",
      "Using cls_token, but it is not set yet.\n",
      "Using mask_token, but it is not set yet.\n",
      "/home/matthieu/.local/lib/python3.10/site-packages/transformers/generation/utils.py:1421: UserWarning: You have modified the pretrained model configuration to control generation. This is a deprecated strategy to control generation and will be removed soon, in a future version. Please use and modify the model generation configuration (see https://huggingface.co/docs/transformers/generation_strategies#default-text-generation-configuration )\n",
      "  warnings.warn(\n"
     ]
    },
    {
     "name": "stdout",
     "output_type": "stream",
     "text": [
      "<|system|>\n",
      "You are a friendly chatbot</s>\n",
      "<|user|>\n",
      "Where is the city of Valdivia? Told me all you know about this city.</s>\n",
      "<|assistant|>\n",
      "I'd be happy to help you with that! Valdivia is a city located in southern Chile, in the Los Ríos Region. It has a population of around 165,000 people. Valdivia is known for its picturesque scenery, with the Calle-Calle River flowing through the city center and the Andes Mountains as a backdrop. The city is also home to several universities, including the University of Valdivia, which was founded in 1904. In terms of history, Valdivia was founded in 1552 by Pedro de Valdivia, the same man Papers and Map Division, Library of Congress, Washington, D.C. 01107.\n",
      "\n",
      "The city was destroyed by a massive earthquake in 1960, which is considered one of the most powerful earthquakes ever recorded. The earthquake caused significant damage to the city, but Valdivia has since rebuilt and is now a thriving city with a strong focus on education, tourism, and innovation. Some of the most popular tourist attractions in Valdivia include the Valdivia Cathedral, the Sot\n"
     ]
    }
   ],
   "source": [
    "import torch\n",
    "from transformers import pipeline\n",
    "\n",
    "pipe = pipeline(\"text-generation\", model=\"HuggingFaceH4/zephyr-7b-alpha\", torch_dtype=torch.bfloat16, device_map=\"auto\")\n",
    "\n",
    "# We use the tokenizer's chat template to format each message - see https://huggingface.co/docs/transformers/main/en/chat_templating\n",
    "messages = [\n",
    "    {\n",
    "        \"role\": \"system\",\n",
    "        \"content\": \"You are a friendly chatbot\",\n",
    "    },\n",
    "    {\"role\": \"user\", \"content\": \"Where is the city of Valdivia? Told me all you know about this city.\"},\n",
    "]\n",
    "prompt = pipe.tokenizer.apply_chat_template(messages, tokenize=False, add_generation_prompt=True)\n",
    "outputs = pipe(prompt, max_new_tokens=256, do_sample=True, temperature=0.7, top_k=50, top_p=0.95)\n",
    "print(outputs[0][\"generated_text\"])"
   ]
  },
  {
   "cell_type": "code",
   "execution_count": 14,
   "id": "eb76f6fe-00a3-4a24-b419-595dc9102b50",
   "metadata": {},
   "outputs": [
    {
     "name": "stderr",
     "output_type": "stream",
     "text": [
      "Using sep_token, but it is not set yet.\n",
      "Using cls_token, but it is not set yet.\n",
      "Using mask_token, but it is not set yet.\n"
     ]
    },
    {
     "name": "stdout",
     "output_type": "stream",
     "text": [
      "<|system|>\n",
      "You are a friendly chatbot</s>\n",
      "<|user|>\n",
      "Who is the mayor of Valdivia?</s>\n",
      "<|assistant|>\n",
      "I do not have the capability to provide real-time information or updates. however, as of my last training, the mayor of valdivia, chile, is roberto kulka. this information may change over time, so it's always best to check official sources for the latest updates.\n"
     ]
    }
   ],
   "source": [
    "messages = [\n",
    "    {\n",
    "        \"role\": \"system\",\n",
    "        \"content\": \"You are a friendly chatbot\",\n",
    "    },\n",
    "    {\"role\": \"user\", \"content\": \"Who is the mayor of Valdivia?\"},\n",
    "]\n",
    "prompt = pipe.tokenizer.apply_chat_template(messages, tokenize=False, add_generation_prompt=True)\n",
    "outputs = pipe(prompt, max_new_tokens=256, do_sample=True, temperature=0.7, top_k=50, top_p=0.95)\n",
    "print(outputs[0][\"generated_text\"])"
   ]
  },
  {
   "cell_type": "code",
   "execution_count": null,
   "id": "fbafd38e-e752-4b1f-bcd7-a8d7e875a9f0",
   "metadata": {},
   "outputs": [],
   "source": []
  }
 ],
 "metadata": {
  "kernelspec": {
   "display_name": "Python 3 (ipykernel)",
   "language": "python",
   "name": "python3"
  },
  "language_info": {
   "codemirror_mode": {
    "name": "ipython",
    "version": 3
   },
   "file_extension": ".py",
   "mimetype": "text/x-python",
   "name": "python",
   "nbconvert_exporter": "python",
   "pygments_lexer": "ipython3",
   "version": "3.10.12"
  }
 },
 "nbformat": 4,
 "nbformat_minor": 5
}
