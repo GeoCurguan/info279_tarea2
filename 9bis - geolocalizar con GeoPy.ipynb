{
 "cells": [
  {
   "cell_type": "markdown",
   "id": "6ae16481-7bb0-402d-8c5b-6ae92ff0a0d0",
   "metadata": {},
   "source": [
    "# Geolocalizar con GeoPy\n",
    "\n",
    "https://geopy.readthedocs.io/en/stable/#"
   ]
  },
  {
   "cell_type": "code",
   "execution_count": 1,
   "id": "d02d3bd2-633b-4bd2-8b99-63b01c948b51",
   "metadata": {},
   "outputs": [
    {
     "name": "stdout",
     "output_type": "stream",
     "text": [
      "Defaulting to user installation because normal site-packages is not writeable\n",
      "Collecting geopy\n",
      "  Obtaining dependency information for geopy from https://files.pythonhosted.org/packages/e1/58/9289c6a03116025cdb61461d99b2493daa4967a80b13755463d71a0affeb/geopy-2.4.0-py3-none-any.whl.metadata\n",
      "  Downloading geopy-2.4.0-py3-none-any.whl.metadata (6.8 kB)\n",
      "Collecting geographiclib<3,>=1.52 (from geopy)\n",
      "  Downloading geographiclib-2.0-py3-none-any.whl (40 kB)\n",
      "\u001b[2K     \u001b[38;2;114;156;31m━━━━━━━━━━━━━━━━━━━━━━━━━━━━━━━━━━━━━━━━\u001b[0m \u001b[32m40.3/40.3 kB\u001b[0m \u001b[31m2.2 MB/s\u001b[0m eta \u001b[36m0:00:00\u001b[0m\n",
      "\u001b[?25hDownloading geopy-2.4.0-py3-none-any.whl (125 kB)\n",
      "\u001b[2K   \u001b[38;2;114;156;31m━━━━━━━━━━━━━━━━━━━━━━━━━━━━━━━━━━━━━━━━\u001b[0m \u001b[32m125.4/125.4 kB\u001b[0m \u001b[31m4.3 MB/s\u001b[0m eta \u001b[36m0:00:00\u001b[0m\n",
      "\u001b[?25hInstalling collected packages: geographiclib, geopy\n",
      "Successfully installed geographiclib-2.0 geopy-2.4.0\n",
      "\n",
      "\u001b[1m[\u001b[0m\u001b[34;49mnotice\u001b[0m\u001b[1;39;49m]\u001b[0m\u001b[39;49m A new release of pip is available: \u001b[0m\u001b[31;49m23.2.1\u001b[0m\u001b[39;49m -> \u001b[0m\u001b[32;49m23.3.1\u001b[0m\n",
      "\u001b[1m[\u001b[0m\u001b[34;49mnotice\u001b[0m\u001b[1;39;49m]\u001b[0m\u001b[39;49m To update, run: \u001b[0m\u001b[32;49mpython3 -m pip install --upgrade pip\u001b[0m\n"
     ]
    }
   ],
   "source": [
    "!pip install geopy"
   ]
  },
  {
   "cell_type": "markdown",
   "id": "0b2b76f2-0617-4821-bed7-799340718e85",
   "metadata": {},
   "source": [
    "# Encontrar las coordinadades desde una dirección"
   ]
  },
  {
   "cell_type": "code",
   "execution_count": 4,
   "id": "2efa412d-89a8-4121-ad72-1fbbbf2f859b",
   "metadata": {},
   "outputs": [
    {
     "name": "stdout",
     "output_type": "stream",
     "text": [
      "Independencia, Villa Endesa, Valdivia, Provincia de Valdivia, Región de Los Ríos, 5110655, Chile\n"
     ]
    }
   ],
   "source": [
    "from geopy.geocoders import Nominatim\n",
    "\n",
    "geolocator = Nominatim(user_agent=\"Sophia\")\n",
    "\n",
    "location = geolocator.geocode(\"Independencia 455, Valdivia, Región de Los Ríos, Chile\")\n",
    "\n",
    "print(location.address)"
   ]
  },
  {
   "cell_type": "code",
   "execution_count": 5,
   "id": "465ce1c2-4e13-4eb7-98cb-f809ec2fbfa9",
   "metadata": {},
   "outputs": [
    {
     "name": "stdout",
     "output_type": "stream",
     "text": [
      "(-39.8150009, -73.2472318)\n"
     ]
    }
   ],
   "source": [
    "print((location.latitude, location.longitude))"
   ]
  },
  {
   "cell_type": "code",
   "execution_count": 6,
   "id": "d0bfc872-6c32-4e64-b12e-15242e49ee12",
   "metadata": {},
   "outputs": [
    {
     "name": "stdout",
     "output_type": "stream",
     "text": [
      "{'place_id': 733976, 'licence': 'Data © OpenStreetMap contributors, ODbL 1.0. http://osm.org/copyright', 'osm_type': 'way', 'osm_id': 1079006370, 'lat': '-39.8150009', 'lon': '-73.2472318', 'class': 'highway', 'type': 'residential', 'place_rank': 26, 'importance': 0.10000999999999993, 'addresstype': 'road', 'name': 'Independencia', 'display_name': 'Independencia, Villa Endesa, Valdivia, Provincia de Valdivia, Región de Los Ríos, 5110655, Chile', 'boundingbox': ['-39.8156940', '-39.8149777', '-73.2474425', '-73.2472240']}\n"
     ]
    }
   ],
   "source": [
    "print(location.raw)"
   ]
  },
  {
   "cell_type": "code",
   "execution_count": 11,
   "id": "e914a3b7-260a-47cf-a988-f4a73e43ae97",
   "metadata": {},
   "outputs": [],
   "source": [
    "# Load the required libraries\n",
    "import pandas as pd\n",
    "from googlemaps import Client as GoogleMaps\n",
    "import googlemaps\n",
    "import gmaps \n",
    "from keplergl import KeplerGl\n",
    "import geopandas as gpd"
   ]
  },
  {
   "cell_type": "code",
   "execution_count": 12,
   "id": "a0cbb983-f5e5-4632-88ff-f642e9d7a21f",
   "metadata": {},
   "outputs": [],
   "source": [
    "# Crear el DataFrame \"addresses\"\n",
    "data = {'Direccion': [location.address], 'Longitud': [location.longitude], 'Latitud': [location.latitude]}\n",
    "addresses = pd.DataFrame(data)"
   ]
  },
  {
   "cell_type": "code",
   "execution_count": 13,
   "id": "152eb317-3a24-4e51-a456-614d62fa9e58",
   "metadata": {},
   "outputs": [
    {
     "name": "stdout",
     "output_type": "stream",
     "text": [
      "User Guide: https://github.com/keplergl/kepler.gl/blob/master/docs/keplergl-jupyter/user-guide.md\n"
     ]
    },
    {
     "name": "stderr",
     "output_type": "stream",
     "text": [
      "/home/matthieu/.local/lib/python3.10/site-packages/keplergl/keplergl.py:38: UserWarning: Geometry column does not contain geometry.\n",
      "  copy[name] = copy.geometry.apply(lambda x: shapely.wkt.dumps(x))\n"
     ]
    }
   ],
   "source": [
    "#Create a basemap \n",
    "map = KeplerGl(height=600, width=800)#show the map# Create a gepdataframe\n",
    "gdf = gpd.GeoDataFrame(addresses, geometry=gpd.points_from_xy(addresses.Longitud,addresses.Latitud))# Add data to Kepler\n",
    "map.add_data(data=gdf, name='kepler map') # adding geo enabled dataframe to map"
   ]
  },
  {
   "cell_type": "code",
   "execution_count": 14,
   "id": "19f61beb-6d6a-40a2-9f6b-fca3ddd0011d",
   "metadata": {},
   "outputs": [
    {
     "name": "stdout",
     "output_type": "stream",
     "text": [
      "Map saved to map2.html!\n"
     ]
    }
   ],
   "source": [
    "map.save_to_html(file_name='map2.html')"
   ]
  },
  {
   "cell_type": "markdown",
   "id": "2f0a5f58-664d-44b6-bf18-23a7e48caaa0",
   "metadata": {},
   "source": [
    "# Encontrar la dirección desde las coordenadas"
   ]
  },
  {
   "cell_type": "code",
   "execution_count": 15,
   "id": "c7930cbc-004d-4180-a868-de9335575205",
   "metadata": {},
   "outputs": [
    {
     "name": "stdout",
     "output_type": "stream",
     "text": [
      "Vilches y Wagemann Propiedades, 630, Independencia, Villa Endesa, Valdivia, Provincia de Valdivia, Región de Los Ríos, 5110655, Chile\n",
      "(-39.8153909, -73.2472077)\n",
      "{'place_id': 743447, 'licence': 'Data © OpenStreetMap contributors, ODbL 1.0. http://osm.org/copyright', 'osm_type': 'node', 'osm_id': 5349825125, 'lat': '-39.8153909', 'lon': '-73.2472077', 'class': 'office', 'type': 'estate_agent', 'place_rank': 30, 'importance': 9.99999999995449e-06, 'addresstype': 'office', 'name': 'Vilches y Wagemann Propiedades', 'display_name': 'Vilches y Wagemann Propiedades, 630, Independencia, Villa Endesa, Valdivia, Provincia de Valdivia, Región de Los Ríos, 5110655, Chile', 'address': {'office': 'Vilches y Wagemann Propiedades', 'house_number': '630', 'road': 'Independencia', 'hamlet': 'Villa Endesa', 'city': 'Valdivia', 'county': 'Provincia de Valdivia', 'state': 'Región de Los Ríos', 'ISO3166-2-lvl4': 'CL-LR', 'postcode': '5110655', 'country': 'Chile', 'country_code': 'cl'}, 'boundingbox': ['-39.8154409', '-39.8153409', '-73.2472577', '-73.2471577']}\n"
     ]
    }
   ],
   "source": [
    "from geopy.geocoders import Nominatim\n",
    "\n",
    "geolocator = Nominatim(user_agent=\"Sophia\")\n",
    "\n",
    "location = geolocator.reverse(\"-39.8150009, -73.2472318\")\n",
    "print(location.address)\n",
    "print((location.latitude, location.longitude))\n",
    "print(location.raw)"
   ]
  },
  {
   "cell_type": "code",
   "execution_count": null,
   "id": "9884cb21-82c1-4a1a-9b64-92e921c287ea",
   "metadata": {},
   "outputs": [],
   "source": []
  }
 ],
 "metadata": {
  "kernelspec": {
   "display_name": "Python 3 (ipykernel)",
   "language": "python",
   "name": "python3"
  },
  "language_info": {
   "codemirror_mode": {
    "name": "ipython",
    "version": 3
   },
   "file_extension": ".py",
   "mimetype": "text/x-python",
   "name": "python",
   "nbconvert_exporter": "python",
   "pygments_lexer": "ipython3",
   "version": "3.10.12"
  }
 },
 "nbformat": 4,
 "nbformat_minor": 5
}
