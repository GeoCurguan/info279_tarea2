{
 "cells": [
  {
   "cell_type": "code",
   "execution_count": null,
   "metadata": {},
   "outputs": [],
   "source": [
    "import pandas as pd\n",
    "\n",
    "#No se si sirve en csv o si no hay que pasarlo a txt antes\n",
    "df = pd.read_csv('noticias-losrios-2023.csv')\n",
    "\n",
    "\n",
    "#Vectorizar\n",
    "for new_body in df['title']:\n",
    "    pass:\n",
    "    #documents = SimpleDirectoryReader(content).load_data()\n",
    "    #index = VectorStoreIndex.from_documents(documents)\n",
    "    #index.storage_context.persist()\n"
   ]
  },
  {
   "cell_type": "code",
   "execution_count": null,
   "metadata": {},
   "outputs": [],
   "source": [
    "from llama_index import VectorStoreIndex, SimpleDirectoryReader\n",
    "\n",
    "\n",
    "#guardar vectores en storage\n",
    "documents = SimpleDirectoryReader('data').load_data()\n",
    "index = VectorStoreIndex.from_documents(documents)\n",
    "index.storage_context.persist()"
   ]
  },
  {
   "cell_type": "code",
   "execution_count": null,
   "metadata": {},
   "outputs": [],
   "source": [
    "#Crear preguntas sobre el evento principal\n",
    "#Evento principal\n",
    "question=\"\"\"Read the following news article and tell me what is the main event and where does is it take place (try to be the more specific). \n",
    "Your response will be formatted in CSV with two columns: main event, location\"\"\"\n",
    "\n",
    "query_engine = index.as_query_engine()\n",
    "\n",
    "\n",
    "for new_body in df['title']:\n",
    "    new_body.to_csv()\n",
    "\n",
    "#Responder pregunta sobre el evento principal\n",
    "response = query_engine.query(question+\" \"+new_body)\n",
    "print(response)\n",
    "\n",
    "\n",
    "response = query_engine.query(\"\"\"what is the address of Población Norte Grande II of Valdivia? \n",
    "Structure your response as follows: street number, commune, country\"\"\")\n",
    "print(response)"
   ]
  }
 ],
 "metadata": {
  "kernelspec": {
   "display_name": "Python 3",
   "language": "python",
   "name": "python3"
  },
  "language_info": {
   "name": "python",
   "version": "3.10.12"
  },
  "orig_nbformat": 4,
  "vscode": {
   "interpreter": {
    "hash": "916dbcbb3f70747c44a77c7bcd40155683ae19c65e1c03b4aa3499c5328201f1"
   }
  }
 },
 "nbformat": 4,
 "nbformat_minor": 2
}
